{
 "cells": [
  {
   "cell_type": "code",
   "execution_count": null,
   "id": "2bb8c688",
   "metadata": {},
   "outputs": [],
   "source": []
  },
  {
   "cell_type": "markdown",
   "id": "90003e29",
   "metadata": {},
   "source": [
    "# Random Encryption on AES keys and generating the reports"
   ]
  },
  {
   "cell_type": "markdown",
   "id": "27c867f1",
   "metadata": {},
   "source": []
  },
  {
   "cell_type": "code",
   "execution_count": null,
   "id": "c07a21cc",
   "metadata": {},
   "outputs": [],
   "source": []
  },
  {
   "cell_type": "code",
   "execution_count": 17,
   "id": "1b9b5558",
   "metadata": {},
   "outputs": [
    {
     "name": "stdout",
     "output_type": "stream",
     "text": [
      "Enter the path to the folder containing files to encrypt: C:/Users/ROHAN/IotSimulation/OneHour/50KB/850kb/T1/850KB_AES_Enc_key\n",
      "Enter the path to the folder where encrypted files will be saved: C:/Users/ROHAN/IotSimulation/OneHour/50KB/850kb/T1/random[2]\n",
      "Enter the path to the folder where the encryption report will be saved: C:/Users/ROHAN/IotSimulation/OneHour/50KB/850kb\n",
      "Encryption process completed. Report generated.\n"
     ]
    }
   ],
   "source": [
    "import os\n",
    "import csv\n",
    "import base64\n",
    "import secrets\n",
    "import time\n",
    "\n",
    "def generate_random_key():\n",
    "    return secrets.token_hex(16)\n",
    "\n",
    "def random_encryption(file_data):\n",
    "    random_key = generate_random_key()\n",
    "    R1, R2 = random_key[:len(random_key)//2], random_key[len(random_key)//2:]\n",
    "    CTDevId_Uid = f\"Encrypted({file_data})\"\n",
    "    return R1, R2, CTDevId_Uid\n",
    "\n",
    "def concatenating_random_number(R1, CTDevId_Uid, R2):\n",
    "    return f\"{R1}||{CTDevId_Uid}||{R2}\"\n",
    "\n",
    "def encrypt_file(file_path, encrypted_folder, encryption_report):\n",
    "    start_time = time.time()\n",
    "\n",
    "    with open(file_path, 'rb') as file:\n",
    "        file_data = file.read()\n",
    "\n",
    "    file_data_b64 = base64.b64encode(file_data).decode('utf-8')\n",
    "\n",
    "    R1, R2, CTDevId_Uid = random_encryption(file_data_b64)\n",
    "    CT_prime = concatenating_random_number(R1, CTDevId_Uid, R2)\n",
    "\n",
    "    encrypted_file_path = os.path.join(encrypted_folder, f\"encrypted_{os.path.basename(file_path)}\")\n",
    "    with open(encrypted_file_path, 'w') as file:\n",
    "        encoded_data = base64.b64encode(CT_prime.encode('utf-8')).decode('utf-8')\n",
    "        file.write(encoded_data)\n",
    "\n",
    "    end_time = time.time()\n",
    "    encryption_duration = end_time - start_time\n",
    "\n",
    "    # Extract user_id from the filename\n",
    "    user_id_parts = os.path.basename(file_path).split('_')\n",
    "    user_id = user_id_parts[2] if len(user_id_parts) > 2 else 'Unknown'\n",
    "\n",
    "    encryption_report.append({'filename': os.path.basename(file_path), 'user_id': user_id, 'encryption_duration': encryption_duration})\n",
    "\n",
    "def write_encryption_report(encryption_report, report_path):\n",
    "    report_file_path = os.path.join(report_path, \"RandomEncReport150kb.csv\")\n",
    "    with open(report_file_path, mode='w', newline='') as file:\n",
    "        writer = csv.DictWriter(file, fieldnames=['filename', 'user_id', 'encryption_duration'])\n",
    "        writer.writeheader()\n",
    "        for entry in encryption_report:\n",
    "            writer.writerow(entry)\n",
    "\n",
    "def encrypt_all_files_in_folder(source_folder, encrypted_folder, report_folder):\n",
    "    if not os.path.exists(encrypted_folder):\n",
    "        os.makedirs(encrypted_folder)\n",
    "    \n",
    "    encryption_report = []\n",
    "\n",
    "    for filename in os.listdir(source_folder):\n",
    "        file_path = os.path.join(source_folder, filename)\n",
    "        if os.path.isfile(file_path):\n",
    "            encrypt_file(file_path, encrypted_folder, encryption_report)\n",
    "\n",
    "    if not os.path.exists(report_folder):\n",
    "        os.makedirs(report_folder)\n",
    "    write_encryption_report(encryption_report, report_folder)\n",
    "\n",
    "def main():\n",
    "    source_folder = input(\"Enter the path to the folder containing files to encrypt: \")\n",
    "    encrypted_folder = input(\"Enter the path to the folder where encrypted files will be saved: \")\n",
    "    report_folder = input(\"Enter the path to the folder where the encryption report will be saved: \")\n",
    "\n",
    "    encrypt_all_files_in_folder(source_folder, encrypted_folder, report_folder)\n",
    "    print(\"Encryption process completed. Report generated.\")\n",
    "\n",
    "if __name__ == \"__main__\":\n",
    "    main()\n"
   ]
  },
  {
   "cell_type": "code",
   "execution_count": null,
   "id": "6655c410",
   "metadata": {},
   "outputs": [],
   "source": []
  },
  {
   "cell_type": "code",
   "execution_count": null,
   "id": "54f25661",
   "metadata": {},
   "outputs": [],
   "source": [
    "C:/Users/ROHAN/IotSimulation/OneHour/50KB/850kb/T1/850KB_AES_Enc_key"
   ]
  },
  {
   "cell_type": "code",
   "execution_count": null,
   "id": "51c1d1c0",
   "metadata": {},
   "outputs": [],
   "source": [
    "C:/Users/ROHAN/IotSimulation/OneHour/50KB/850kb/T1/random[1]"
   ]
  },
  {
   "cell_type": "code",
   "execution_count": null,
   "id": "e0c18ae9",
   "metadata": {},
   "outputs": [],
   "source": []
  },
  {
   "cell_type": "code",
   "execution_count": null,
   "id": "2f71875f",
   "metadata": {},
   "outputs": [],
   "source": []
  },
  {
   "cell_type": "code",
   "execution_count": null,
   "id": "2de813eb",
   "metadata": {},
   "outputs": [],
   "source": []
  },
  {
   "cell_type": "code",
   "execution_count": null,
   "id": "5af86059",
   "metadata": {},
   "outputs": [],
   "source": []
  },
  {
   "cell_type": "markdown",
   "id": "c90dc4ad",
   "metadata": {},
   "source": [
    "# RANDOM decryption and report"
   ]
  },
  {
   "cell_type": "code",
   "execution_count": null,
   "id": "4887dd17",
   "metadata": {},
   "outputs": [],
   "source": []
  },
  {
   "cell_type": "code",
   "execution_count": 18,
   "id": "4082b904",
   "metadata": {},
   "outputs": [
    {
     "name": "stdout",
     "output_type": "stream",
     "text": [
      "Enter the path to the folder containing encrypted files: C:/Users/ROHAN/IotSimulation/OneHour/50KB/850kb/T1/random[2]\n",
      "Enter the path to the folder where decrypted files will be saved: C:/Users/ROHAN/IotSimulation/OneHour/50KB/850kb/T1/randomDec[2]\n",
      "Enter the path to the folder where the decryption report will be saved: C:/Users/ROHAN/IotSimulation/OneHour/50KB/850kb\n",
      "Decryption process completed. Report generated.\n"
     ]
    }
   ],
   "source": [
    "import os\n",
    "import csv\n",
    "import json\n",
    "import base64\n",
    "import time\n",
    "\n",
    "def random_decryption(CT_prime):\n",
    "    R1, encrypted_data_b64, R2 = CT_prime.split('||')\n",
    "    encrypted_data = base64.b64decode(encrypted_data_b64)  # Decode from base64 as binary\n",
    "    json_data = encrypted_data[len(\"Encrypted(\".encode()): -1]  # Remove 'Encrypted(' and the closing parenthesis\n",
    "    return json_data\n",
    "\n",
    "def decrypt_file(file_path, decrypted_folder):\n",
    "    start_time = time.time()\n",
    "\n",
    "    with open(file_path, 'rb') as file:\n",
    "        encoded_data = file.read()\n",
    "        CT_prime = base64.b64decode(encoded_data).decode('utf-8')\n",
    "\n",
    "    decrypted_data = random_decryption(CT_prime)\n",
    "\n",
    "    # Construct the decrypted filename\n",
    "    original_filename = os.path.basename(file_path)\n",
    "    decrypted_filename = original_filename.replace('encrypted_', '')  # Remove 'encrypted_' from the filename\n",
    "    decrypted_file_path = os.path.join(decrypted_folder, decrypted_filename)\n",
    "\n",
    "    with open(decrypted_file_path, 'wb') as file:\n",
    "        file.write(decrypted_data)\n",
    "\n",
    "    end_time = time.time()\n",
    "    decryption_duration = end_time - start_time\n",
    "\n",
    "    # Extract user_id from the filename\n",
    "    user_id_parts = original_filename.split('_')\n",
    "    user_id_index = user_id_parts.index('user') + 1 if 'user' in user_id_parts else -1\n",
    "    user_id = user_id_parts[user_id_index] if user_id_index != -1 and user_id_index < len(user_id_parts) else 'Unknown'\n",
    "\n",
    "    return {'filename': original_filename, 'user_id': user_id, 'decryption_duration': decryption_duration}\n",
    "\n",
    "def write_decryption_report(decryption_report, report_path):\n",
    "    report_file_path = os.path.join(report_path, \"RandomDecReport.csv\")\n",
    "    with open(report_file_path, mode='w', newline='') as file:\n",
    "        writer = csv.DictWriter(file, fieldnames=['filename', 'user_id', 'decryption_duration'])\n",
    "        writer.writeheader()\n",
    "        for entry in decryption_report:\n",
    "            writer.writerow(entry)\n",
    "\n",
    "def decrypt_all_files_in_folder(encrypted_folder, decrypted_folder, report_folder):\n",
    "    if not os.path.exists(decrypted_folder):\n",
    "        os.makedirs(decrypted_folder)\n",
    "    \n",
    "    decryption_report = []\n",
    "\n",
    "    for filename in os.listdir(encrypted_folder):\n",
    "        if filename.startswith(\"encrypted_\"):\n",
    "            file_path = os.path.join(encrypted_folder, filename)\n",
    "            report_entry = decrypt_file(file_path, decrypted_folder)\n",
    "            decryption_report.append(report_entry)\n",
    "\n",
    "    if not os.path.exists(report_folder):\n",
    "        os.makedirs(report_folder)\n",
    "    write_decryption_report(decryption_report, report_folder)\n",
    "\n",
    "def main():\n",
    "    encrypted_folder = input(\"Enter the path to the folder containing encrypted files: \")\n",
    "    decrypted_folder = input(\"Enter the path to the folder where decrypted files will be saved: \")\n",
    "    report_folder = input(\"Enter the path to the folder where the decryption report will be saved: \")\n",
    "\n",
    "    decrypt_all_files_in_folder(encrypted_folder, decrypted_folder, report_folder)\n",
    "    print(\"Decryption process completed. Report generated.\")\n",
    "\n",
    "if __name__ == \"__main__\":\n",
    "    main()\n"
   ]
  },
  {
   "cell_type": "code",
   "execution_count": null,
   "id": "09e5a53f",
   "metadata": {},
   "outputs": [],
   "source": []
  },
  {
   "cell_type": "code",
   "execution_count": null,
   "id": "ab26ff3c",
   "metadata": {},
   "outputs": [],
   "source": [
    "C:/Users/ROHAN/IotSimulation/OneHour/50KB/850kb/T1/random[1]"
   ]
  },
  {
   "cell_type": "code",
   "execution_count": null,
   "id": "e98d3e3b",
   "metadata": {},
   "outputs": [],
   "source": [
    "C:/Users/ROHAN/IotSimulation/OneHour/50KB/850kb/T1/randomDec[1]"
   ]
  },
  {
   "cell_type": "code",
   "execution_count": null,
   "id": "1621c715",
   "metadata": {},
   "outputs": [],
   "source": []
  },
  {
   "cell_type": "code",
   "execution_count": null,
   "id": "67db479a",
   "metadata": {},
   "outputs": [],
   "source": []
  },
  {
   "cell_type": "code",
   "execution_count": null,
   "id": "b61dc7dd",
   "metadata": {},
   "outputs": [],
   "source": []
  }
 ],
 "metadata": {
  "kernelspec": {
   "display_name": "Python 3 (ipykernel)",
   "language": "python",
   "name": "python3"
  },
  "language_info": {
   "codemirror_mode": {
    "name": "ipython",
    "version": 3
   },
   "file_extension": ".py",
   "mimetype": "text/x-python",
   "name": "python",
   "nbconvert_exporter": "python",
   "pygments_lexer": "ipython3",
   "version": "3.11.3"
  }
 },
 "nbformat": 4,
 "nbformat_minor": 5
}

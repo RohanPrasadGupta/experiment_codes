{
 "cells": [
  {
   "cell_type": "code",
   "execution_count": null,
   "id": "e2c1e83f",
   "metadata": {},
   "outputs": [],
   "source": []
  },
  {
   "cell_type": "code",
   "execution_count": 8,
   "id": "5088b186",
   "metadata": {},
   "outputs": [],
   "source": [
    "from neo4j import GraphDatabase\n",
    "\n",
    "uri = \"neo4j://localhost:7687\"\n",
    "driver = GraphDatabase.driver(uri, auth=(\"neo4j\", \"Rohan@556\"))\n",
    "\n",
    "def create_node(driver, node_label, node_name):\n",
    "    with driver.session() as session:\n",
    "        cypher_query = f\"CREATE (n:{node_label} {{name: $name}})\"\n",
    "        \n",
    "        session.run(cypher_query, name=node_name)\n",
    "\n",
    "create_node(driver, \"Person\", \"Alice\")\n"
   ]
  },
  {
   "cell_type": "code",
   "execution_count": null,
   "id": "506bd14e",
   "metadata": {},
   "outputs": [],
   "source": []
  },
  {
   "cell_type": "code",
   "execution_count": null,
   "id": "c9275b49",
   "metadata": {},
   "outputs": [],
   "source": []
  },
  {
   "cell_type": "code",
   "execution_count": 9,
   "id": "1128ec0c",
   "metadata": {},
   "outputs": [],
   "source": [
    "from neo4j import GraphDatabase\n",
    "\n",
    "uri = \"neo4j://localhost:7687\"\n",
    "driver = GraphDatabase.driver(uri, auth=(\"neo4j\", \"Rohan@556\"))\n",
    "\n",
    "def add_files_to_user(driver, user_id, file1, file2):\n",
    "    with driver.session() as session:\n",
    "        cypher_query = \"\"\"\n",
    "        MERGE (u:User {id: $user_id})\n",
    "        SET u.encryptedFile = $file1, u.keyFile = $file2\n",
    "        \"\"\"\n",
    "        session.run(cypher_query, user_id=user_id, file1=file1, file2=file2)\n",
    "\n",
    "file1 = \"C:/Users/ROHAN/IotSimulation/Neo4j/encrypted_user_1_auth_EMP019_EMP017_merged_1\"\n",
    "file2 = \"C:/Users/ROHAN/IotSimulation/Neo4j/key_iv_user_1_auth_EMP019_EMP017_merged_1.txt.bin\"\n",
    "\n",
    "add_files_to_user(driver, \"user_1\", file1, file2)\n",
    "\n",
    "driver.close()\n"
   ]
  },
  {
   "cell_type": "code",
   "execution_count": null,
   "id": "1f31c832",
   "metadata": {},
   "outputs": [],
   "source": []
  },
  {
   "cell_type": "code",
   "execution_count": 11,
   "id": "f31dff7f",
   "metadata": {},
   "outputs": [],
   "source": [
    "from neo4j import GraphDatabase\n",
    "\n",
    "uri = \"neo4j://localhost:7687\"\n",
    "driver = GraphDatabase.driver(uri, auth=(\"neo4j\", \"Rohan@556\"))\n",
    "\n",
    "def create_file_nodes_and_link_to_user(driver, user_id, file1, file2):\n",
    "    with driver.session() as session:\n",
    "        cypher_query = \"\"\"\n",
    "        MERGE (u:User {id: $user_id})\n",
    "        CREATE (f1:File {path: $file1})\n",
    "        CREATE (f2:File {path: $file2})\n",
    "        MERGE (u)-[:HAS_FILE]->(f1)\n",
    "        MERGE (u)-[:HAS_FILE]->(f2)\n",
    "        \"\"\"\n",
    "        session.run(cypher_query, user_id=user_id, file1=file1, file2=file2)\n",
    "\n",
    "file1 = \"C:/Users/ROHAN/IotSimulation/Neo4j/encrypted_user_1_auth_EMP019_EMP017_merged_1\"\n",
    "file2 = \"C:/Users/ROHAN/IotSimulation/Neo4j/key_iv_user_1_auth_EMP019_EMP017_merged_1.txt.bin\"\n",
    "\n",
    "create_file_nodes_and_link_to_user(driver, \"user_1\", file1, file2)\n",
    "driver.close()\n"
   ]
  },
  {
   "cell_type": "code",
   "execution_count": null,
   "id": "3d909e4c",
   "metadata": {},
   "outputs": [],
   "source": []
  },
  {
   "cell_type": "code",
   "execution_count": null,
   "id": "9695f4c8",
   "metadata": {},
   "outputs": [],
   "source": []
  },
  {
   "cell_type": "code",
   "execution_count": null,
   "id": "7546a322",
   "metadata": {},
   "outputs": [],
   "source": []
  },
  {
   "cell_type": "code",
   "execution_count": null,
   "id": "bf6f9990",
   "metadata": {},
   "outputs": [],
   "source": []
  },
  {
   "cell_type": "code",
   "execution_count": 13,
   "id": "618a0eb9",
   "metadata": {},
   "outputs": [],
   "source": [
    "import os\n",
    "from neo4j import GraphDatabase\n",
    "\n",
    "def list_files_in_directory(directory):\n",
    "    \"\"\"List all files in a given directory.\"\"\"\n",
    "    return [f for f in os.listdir(directory) if os.path.isfile(os.path.join(directory, f))]\n",
    "\n",
    "def extract_user_id(file_name):\n",
    "    \"\"\"Extract user ID from the file name based on the provided naming convention.\"\"\"\n",
    "    parts = file_name.split('_')\n",
    "    if len(parts) > 1:\n",
    "        return 'user_' + parts[1] \n",
    "    return None\n",
    "\n",
    "def upload_files_to_neo4j(driver, directory):\n",
    "    files = list_files_in_directory(directory)\n",
    "    for file in files:\n",
    "        user_id = extract_user_id(file)\n",
    "        if user_id:\n",
    "            file_path = os.path.join(directory, file)\n",
    "            add_file_to_user(driver, user_id, file_path)\n",
    "\n",
    "def add_file_to_user(driver, user_id, file_path):\n",
    "    with driver.session() as session:\n",
    "        cypher_query = \"\"\"\n",
    "        MERGE (u:User {id: $user_id})\n",
    "        MERGE (f:File {path: $file_path})\n",
    "        MERGE (u)-[:HAS_FILE]->(f)\n",
    "        \"\"\"\n",
    "        session.run(cypher_query, user_id=user_id, file_path=file_path)\n",
    "\n",
    "uri = \"neo4j://localhost:7687\"\n",
    "driver = GraphDatabase.driver(uri, auth=(\"neo4j\", \"Rohan@556\"))\n",
    "directories = [\"C:/Users/ROHAN/IotSimulation/AES_enc\", \"C:/Users/ROHAN/IotSimulation/AES_Keys\"]\n",
    "for directory in directories:\n",
    "    upload_files_to_neo4j(driver, directory)\n",
    "\n",
    "driver.close()\n"
   ]
  },
  {
   "cell_type": "code",
   "execution_count": null,
   "id": "28b3c731",
   "metadata": {},
   "outputs": [],
   "source": []
  },
  {
   "cell_type": "code",
   "execution_count": null,
   "id": "9dec0d5f",
   "metadata": {},
   "outputs": [],
   "source": []
  },
  {
   "cell_type": "code",
   "execution_count": null,
   "id": "0141a6bb",
   "metadata": {},
   "outputs": [],
   "source": []
  },
  {
   "cell_type": "code",
   "execution_count": 27,
   "id": "4bf80003",
   "metadata": {},
   "outputs": [
    {
     "name": "stderr",
     "output_type": "stream",
     "text": [
      "C:\\Users\\ROHAN\\AppData\\Local\\Temp\\ipykernel_9872\\1789062553.py:13: DeprecationWarning: write_transaction has been renamed to execute_write\n",
      "  session.write_transaction(self._create_and_link, user_name, file_paths)\n"
     ]
    }
   ],
   "source": [
    "from neo4j import GraphDatabase\n",
    "import os\n",
    "\n",
    "class GraphDBManager:\n",
    "    def __init__(self, uri, user, password):\n",
    "        self.driver = GraphDatabase.driver(uri, auth=(user, password))\n",
    "\n",
    "    def close(self):\n",
    "        self.driver.close()\n",
    "\n",
    "    def create_user_with_file_paths(self, user_name, file_paths):\n",
    "        with self.driver.session() as session:\n",
    "            session.write_transaction(self._create_and_link, user_name, file_paths)\n",
    "\n",
    "    @staticmethod\n",
    "    def _create_and_link(tx, user_name, file_paths):\n",
    "        tx.run(\"MERGE (user:User {name: $user_name})\", user_name=user_name)\n",
    "        \n",
    "        for file_path in file_paths:\n",
    "            file_name = os.path.basename(file_path)\n",
    "            tx.run(\n",
    "                \"MATCH (user:User {name: $user_name}) \"\n",
    "                \"MERGE (file:File {name: $file_name, path: $file_path}) \"\n",
    "                \"MERGE (user)-[:CONTAINS]->(file)\",\n",
    "                user_name=user_name, file_name=file_name, file_path=file_path\n",
    "            )\n",
    "\n",
    "uri = \"neo4j://localhost:7687\"\n",
    "driver = GraphDBManager(uri, \"neo4j\", \"Rohan@556\")\n",
    "\n",
    "file_paths = [\n",
    "    \"C:/Users/ROHAN/IotSimulation/Neo4j/encrypted_user_1_auth_EMP019_EMP017_merged_1\",\n",
    "    \"C:/Users/ROHAN/IotSimulation/Neo4j/key_iv_user_1_auth_EMP019_EMP017_merged_1.txt.bin\"\n",
    "]\n",
    "user_name = \"user_1\"\n",
    "driver.create_user_with_file_paths(user_name, file_paths)\n",
    "driver.close()\n"
   ]
  },
  {
   "cell_type": "code",
   "execution_count": null,
   "id": "61c82ef8",
   "metadata": {},
   "outputs": [],
   "source": [
    "\"C:/Users/ROHAN/IotSimulation/AES_enc\""
   ]
  },
  {
   "cell_type": "code",
   "execution_count": null,
   "id": "c36efa73",
   "metadata": {},
   "outputs": [],
   "source": [
    "\"C:/Users/ROHAN/IotSimulation/AES_Keys\""
   ]
  },
  {
   "cell_type": "code",
   "execution_count": null,
   "id": "bf429e39",
   "metadata": {},
   "outputs": [],
   "source": []
  },
  {
   "cell_type": "markdown",
   "id": "75899d33",
   "metadata": {},
   "source": [
    "# Clear Database"
   ]
  },
  {
   "cell_type": "code",
   "execution_count": 4,
   "id": "bd4835dd",
   "metadata": {},
   "outputs": [
    {
     "name": "stdout",
     "output_type": "stream",
     "text": [
      "All nodes and relationships have been deleted.\n"
     ]
    }
   ],
   "source": [
    "from neo4j import GraphDatabase\n",
    "\n",
    "uri = \"neo4j://localhost:7687\"\n",
    "driver = GraphDatabase.driver(uri, auth=(\"neo4j\", \"Rohan@556\"))\n",
    "\n",
    "def delete_all_data(driver):\n",
    "    with driver.session() as session:\n",
    "        session.run(\"MATCH (n) DETACH DELETE n\")\n",
    "        print(\"All nodes and relationships have been deleted.\")\n",
    "delete_all_data(driver)\n",
    "driver.close()\n"
   ]
  },
  {
   "cell_type": "code",
   "execution_count": null,
   "id": "df786ffc",
   "metadata": {},
   "outputs": [],
   "source": []
  },
  {
   "cell_type": "code",
   "execution_count": null,
   "id": "02d208e5",
   "metadata": {},
   "outputs": [],
   "source": []
  },
  {
   "cell_type": "code",
   "execution_count": null,
   "id": "801f9592",
   "metadata": {},
   "outputs": [],
   "source": []
  },
  {
   "cell_type": "markdown",
   "id": "008b041d",
   "metadata": {},
   "source": [
    "# Exporting all key and files to the graph database"
   ]
  },
  {
   "cell_type": "code",
   "execution_count": 68,
   "id": "7f027e70",
   "metadata": {},
   "outputs": [
    {
     "name": "stderr",
     "output_type": "stream",
     "text": [
      "C:\\Users\\ROHAN\\AppData\\Local\\Temp\\ipykernel_17240\\4061915418.py:16: DeprecationWarning: write_transaction has been renamed to execute_write\n",
      "  session.write_transaction(self._create_and_link, user_name, full_path)\n",
      "C:\\Users\\ROHAN\\AppData\\Local\\Temp\\ipykernel_17240\\4061915418.py:21: DeprecationWarning: write_transaction has been renamed to execute_write\n",
      "  session.write_transaction(self._create_and_link, user_name, full_path)\n"
     ]
    }
   ],
   "source": [
    "import os\n",
    "from neo4j import GraphDatabase\n",
    "\n",
    "class GraphDBManager:\n",
    "    def __init__(self, uri, user, password):\n",
    "        self.driver = GraphDatabase.driver(uri, auth=(user, password))\n",
    "\n",
    "    def close(self):\n",
    "        self.driver.close()\n",
    "\n",
    "    def create_users_with_files(self, folder_path1, folder_path2):\n",
    "        with self.driver.session() as session:\n",
    "            for file_path in os.listdir(folder_path1):\n",
    "                full_path = os.path.join(folder_path1, file_path)\n",
    "                user_name = self.extract_user_from_filename(file_path)\n",
    "                session.write_transaction(self._create_and_link, user_name, full_path)\n",
    "\n",
    "            for file_path in os.listdir(folder_path2):\n",
    "                full_path = os.path.join(folder_path2, file_path)\n",
    "                user_name = self.extract_user_from_filename(file_path)\n",
    "                session.write_transaction(self._create_and_link, user_name, full_path)\n",
    "\n",
    "    def extract_user_from_filename(self, filename):\n",
    "        parts = filename.split('_')\n",
    "        user_index = parts.index('user') + 1\n",
    "        return 'user_' + parts[user_index]\n",
    "\n",
    "    @staticmethod\n",
    "    def _create_and_link(tx, user_name, file_path):\n",
    "        file_name = os.path.basename(file_path)\n",
    "        tx.run(\"MERGE (user:User {name: $user_name})\", user_name=user_name)\n",
    "        tx.run(\n",
    "            \"MATCH (user:User {name: $user_name}) \"\n",
    "            \"MERGE (file:File {name: $file_name, path: $file_path}) \"\n",
    "            \"MERGE (user)-[:CONTAINS]->(file)\",\n",
    "            user_name=user_name, file_name=file_name, file_path=file_path\n",
    "        )\n",
    "\n",
    "uri = \"neo4j://localhost:7687\"\n",
    "\n",
    "driver = GraphDBManager(uri, \"neo4j\", \"Rohan@556\")\n",
    "\n",
    "folder_path1 = \"C:/Users/ROHAN/IotSimulation/OneHour/50KB/50KBTrials/TRIAL[2]50kb/50KB_AES_Enc\"\n",
    "folder_path2 = \"C:/Users/ROHAN/IotSimulation/OneHour/50KB/50KBTrials/TRIAL[2]50kb/50KB_AES_Enc_key\"\n",
    "\n",
    "driver.create_users_with_files(folder_path1, folder_path2)\n",
    "driver.close()\n"
   ]
  },
  {
   "cell_type": "code",
   "execution_count": null,
   "id": "71d3592a",
   "metadata": {},
   "outputs": [],
   "source": []
  },
  {
   "cell_type": "code",
   "execution_count": null,
   "id": "4c9df006",
   "metadata": {},
   "outputs": [],
   "source": [
    "C:/Users/ROHAN/IotSimulation/OneHour/50KB/50KBTrials/TRIAL[1]50kb/50KB_AES_Enc"
   ]
  },
  {
   "cell_type": "code",
   "execution_count": null,
   "id": "71e6544a",
   "metadata": {},
   "outputs": [],
   "source": [
    "C:/Users/ROHAN/IotSimulation/OneHour/50KB/50KBTrials/TRIAL[1]50kb/50KB_AES_Enc_key"
   ]
  },
  {
   "cell_type": "code",
   "execution_count": null,
   "id": "5e8dab47",
   "metadata": {},
   "outputs": [],
   "source": []
  },
  {
   "cell_type": "markdown",
   "id": "45d3f1e6",
   "metadata": {},
   "source": [
    "# To get the data associated with user"
   ]
  },
  {
   "cell_type": "code",
   "execution_count": 10,
   "id": "ebebed63",
   "metadata": {},
   "outputs": [
    {
     "name": "stderr",
     "output_type": "stream",
     "text": [
      "C:\\Users\\ROHAN\\AppData\\Local\\Temp\\ipykernel_2360\\2916422048.py:17: DeprecationWarning: write_transaction has been renamed to execute_write\n",
      "  session.write_transaction(self._create_and_link, user_name, full_path)\n",
      "C:\\Users\\ROHAN\\AppData\\Local\\Temp\\ipykernel_2360\\2916422048.py:22: DeprecationWarning: write_transaction has been renamed to execute_write\n",
      "  session.write_transaction(self._create_and_link, user_name, full_path)\n",
      "C:\\Users\\ROHAN\\AppData\\Local\\Temp\\ipykernel_2360\\2916422048.py:43: DeprecationWarning: read_transaction has been renamed to execute_read\n",
      "  result = session.read_transaction(self._find_user_info, user_name)\n"
     ]
    },
    {
     "name": "stdout",
     "output_type": "stream",
     "text": [
      "Time taken: 2.0726256370544434 seconds\n",
      "User Info: [<Record user=<Node element_id='4:9b702522-6b85-40f7-afb4-81c1efa057cf:86' labels=frozenset({'User'}) properties={'name': 'user_4'}> files=[<Node element_id='4:9b702522-6b85-40f7-afb4-81c1efa057cf:143' labels=frozenset({'File'}) properties={'path': 'C:/Users/ROHAN/IotSimulation/AES_Keys\\\\key_iv_user_4_auth_EMP012_EMP001_merged_1.txt.bin', 'name': 'key_iv_user_4_auth_EMP012_EMP001_merged_1.txt.bin'}>, <Node element_id='4:9b702522-6b85-40f7-afb4-81c1efa057cf:87' labels=frozenset({'File'}) properties={'path': 'C:/Users/ROHAN/IotSimulation/AES_enc\\\\encrypted_user_4_auth_EMP012_EMP001_merged_1.txt', 'name': 'encrypted_user_4_auth_EMP012_EMP001_merged_1.txt'}>]>]\n"
     ]
    }
   ],
   "source": [
    "import os\n",
    "import time\n",
    "from neo4j import GraphDatabase\n",
    "\n",
    "class GraphDBManager:\n",
    "    def __init__(self, uri, user, password):\n",
    "        self.driver = GraphDatabase.driver(uri, auth=(user, password))\n",
    "\n",
    "    def close(self):\n",
    "        self.driver.close()\n",
    "\n",
    "    def create_users_with_files(self, folder_path1, folder_path2):\n",
    "        with self.driver.session() as session:\n",
    "            for file_path in os.listdir(folder_path1):\n",
    "                full_path = os.path.join(folder_path1, file_path)\n",
    "                user_name = self.extract_user_from_filename(file_path)\n",
    "                session.write_transaction(self._create_and_link, user_name, full_path)\n",
    "\n",
    "            for file_path in os.listdir(folder_path2):\n",
    "                full_path = os.path.join(folder_path2, file_path)\n",
    "                user_name = self.extract_user_from_filename(file_path)\n",
    "                session.write_transaction(self._create_and_link, user_name, full_path)\n",
    "\n",
    "    def extract_user_from_filename(self, filename):\n",
    "        parts = filename.split('_')\n",
    "        user_index = parts.index('user') + 1\n",
    "        return 'user_' + parts[user_index]\n",
    "\n",
    "    @staticmethod\n",
    "    def _create_and_link(tx, user_name, file_path):\n",
    "        file_name = os.path.basename(file_path)\n",
    "        tx.run(\"MERGE (user:User {name: $user_name})\", user_name=user_name)\n",
    "        tx.run(\n",
    "            \"MATCH (user:User {name: $user_name}) \"\n",
    "            \"MERGE (file:File {name: $file_name, path: $file_path}) \"\n",
    "            \"MERGE (user)-[:CONTAINS]->(file)\",\n",
    "            user_name=user_name, file_name=file_name, file_path=file_path\n",
    "        )\n",
    "\n",
    "    def get_user_info(self, user_name):\n",
    "        with self.driver.session() as session:\n",
    "            start_time = time.time()\n",
    "            result = session.read_transaction(self._find_user_info, user_name)\n",
    "            end_time = time.time()\n",
    "            time_taken = end_time - start_time  \n",
    "            return result, time_taken\n",
    "\n",
    "    @staticmethod\n",
    "    def _find_user_info(tx, user_name):\n",
    "        query = (\n",
    "            \"MATCH (user:User {name: $user_name})-[:CONTAINS]->(file) \"\n",
    "            \"RETURN user, collect(file) as files\"\n",
    "        )\n",
    "        result = tx.run(query, user_name=user_name)\n",
    "        return [record for record in result]\n",
    "\n",
    "uri = \"neo4j://localhost:7687\"\n",
    "driver = GraphDBManager(uri, \"neo4j\", \"Rohan@556\")\n",
    "\n",
    "folder_path1 = \"C:/Users/ROHAN/IotSimulation/AES_enc\"\n",
    "folder_path2 = \"C:/Users/ROHAN/IotSimulation/AES_Keys\"\n",
    "driver.create_users_with_files(folder_path1, folder_path2)\n",
    "\n",
    "user_info, time_taken = driver.get_user_info(\"user_4\")\n",
    "print(f\"Time taken: {time_taken} seconds\")\n",
    "print(\"User Info:\", user_info)\n",
    "\n",
    "driver.close()"
   ]
  },
  {
   "cell_type": "code",
   "execution_count": null,
   "id": "04005b80",
   "metadata": {},
   "outputs": [],
   "source": []
  },
  {
   "cell_type": "code",
   "execution_count": null,
   "id": "f4dd8ea7",
   "metadata": {},
   "outputs": [],
   "source": []
  },
  {
   "cell_type": "code",
   "execution_count": null,
   "id": "b67d8921",
   "metadata": {},
   "outputs": [],
   "source": []
  },
  {
   "cell_type": "markdown",
   "id": "cf3eb3e7",
   "metadata": {},
   "source": [
    "# Code to run on GraphDB to get user data"
   ]
  },
  {
   "cell_type": "code",
   "execution_count": null,
   "id": "220c1170",
   "metadata": {},
   "outputs": [],
   "source": [
    "MATCH (user:User {name: 'user_123'})-[:CONTAINS]->(file)\n",
    "RETURN user, collect(file) as files"
   ]
  },
  {
   "cell_type": "code",
   "execution_count": null,
   "id": "bc3d1df9",
   "metadata": {},
   "outputs": [],
   "source": []
  },
  {
   "cell_type": "code",
   "execution_count": null,
   "id": "0f38e3a9",
   "metadata": {},
   "outputs": [],
   "source": []
  },
  {
   "cell_type": "code",
   "execution_count": null,
   "id": "f3a2dc99",
   "metadata": {},
   "outputs": [],
   "source": []
  },
  {
   "cell_type": "markdown",
   "id": "6985632f",
   "metadata": {},
   "source": [
    "# Code to get all the user who have affected by any data userID"
   ]
  },
  {
   "cell_type": "code",
   "execution_count": null,
   "id": "7c32544d",
   "metadata": {},
   "outputs": [],
   "source": []
  },
  {
   "cell_type": "code",
   "execution_count": 12,
   "id": "530f7700",
   "metadata": {},
   "outputs": [
    {
     "name": "stderr",
     "output_type": "stream",
     "text": [
      "C:\\Users\\ROHAN\\AppData\\Local\\Temp\\ipykernel_17240\\4026940138.py:17: DeprecationWarning: write_transaction has been renamed to execute_write\n",
      "  session.write_transaction(self._create_and_link, user_name, full_path)\n",
      "C:\\Users\\ROHAN\\AppData\\Local\\Temp\\ipykernel_17240\\4026940138.py:22: DeprecationWarning: write_transaction has been renamed to execute_write\n",
      "  session.write_transaction(self._create_and_link, user_name, full_path)\n",
      "C:\\Users\\ROHAN\\AppData\\Local\\Temp\\ipykernel_17240\\4026940138.py:60: DeprecationWarning: read_transaction has been renamed to execute_read\n",
      "  result = session.read_transaction(self._count_users_by_keyword, keyword)\n"
     ]
    },
    {
     "name": "stdout",
     "output_type": "stream",
     "text": [
      "Time taken: 2.0544304847717285 seconds\n",
      "Number of users with 'EMP008' in their filenames: 10\n"
     ]
    }
   ],
   "source": [
    "import os\n",
    "import time\n",
    "from neo4j import GraphDatabase\n",
    "\n",
    "class GraphDBManager:\n",
    "    def __init__(self, uri, user, password):\n",
    "        self.driver = GraphDatabase.driver(uri, auth=(user, password))\n",
    "\n",
    "    def close(self):\n",
    "        self.driver.close()\n",
    "\n",
    "    def create_users_with_files(self, folder_path1, folder_path2):\n",
    "        with self.driver.session() as session:\n",
    "            for file_path in os.listdir(folder_path1):\n",
    "                full_path = os.path.join(folder_path1, file_path)\n",
    "                user_name = self.extract_user_from_filename(file_path)\n",
    "                session.write_transaction(self._create_and_link, user_name, full_path)\n",
    "\n",
    "            for file_path in os.listdir(folder_path2):\n",
    "                full_path = os.path.join(folder_path2, file_path)\n",
    "                user_name = self.extract_user_from_filename(file_path)\n",
    "                session.write_transaction(self._create_and_link, user_name, full_path)\n",
    "\n",
    "    def extract_user_from_filename(self, filename):\n",
    "        parts = filename.split('_')\n",
    "        user_index = parts.index('user') + 1\n",
    "        return 'user_' + parts[user_index]\n",
    "\n",
    "    @staticmethod\n",
    "    def _create_and_link(tx, user_name, file_path):\n",
    "        file_name = os.path.basename(file_path)\n",
    "        tx.run(\"MERGE (user:User {name: $user_name})\", user_name=user_name)\n",
    "        tx.run(\n",
    "            \"MATCH (user:User {name: $user_name}) \"\n",
    "            \"MERGE (file:File {name: $file_name, path: $file_path}) \"\n",
    "            \"MERGE (user)-[:CONTAINS]->(file)\",\n",
    "            user_name=user_name, file_name=file_name, file_path=file_path\n",
    "        )\n",
    "\n",
    "    def get_user_info(self, user_name):\n",
    "        with self.driver.session() as session:\n",
    "            start_time = time.time()\n",
    "            result = session.read_transaction(self._find_user_info, user_name)\n",
    "            end_time = time.time()\n",
    "            time_taken = end_time - start_time  \n",
    "            return result, time_taken\n",
    "\n",
    "    @staticmethod\n",
    "    def _find_user_info(tx, user_name):\n",
    "        query = (\n",
    "            \"MATCH (user:User {name: $user_name})-[:CONTAINS]->(file) \"\n",
    "            \"RETURN user, collect(file) as files\"\n",
    "        )\n",
    "        result = tx.run(query, user_name=user_name)\n",
    "        return [record for record in result]\n",
    "\n",
    "    def count_users_by_filename_keyword(self, keyword):\n",
    "        with self.driver.session() as session:\n",
    "            start_time = time.time()\n",
    "            result = session.read_transaction(self._count_users_by_keyword, keyword)\n",
    "            end_time = time.time()\n",
    "            time_taken = end_time - start_time  \n",
    "            return result, time_taken\n",
    "\n",
    "    @staticmethod\n",
    "    def _count_users_by_keyword(tx, keyword):\n",
    "        query = (\n",
    "            \"MATCH (user:User)-[:CONTAINS]->(file:File) \"\n",
    "            \"WHERE file.name CONTAINS $keyword \"\n",
    "            \"RETURN COUNT(DISTINCT user) AS userCount\"\n",
    "        )\n",
    "        result = tx.run(query, keyword=keyword).single().value()\n",
    "        return result\n",
    "\n",
    "# Usage example\n",
    "uri = \"neo4j://localhost:7687\"\n",
    "driver = GraphDBManager(uri, \"neo4j\", \"Rohan@556\")\n",
    "\n",
    "# Create users and files (assuming these folders contain your files)\n",
    "folder_path1 = \"C:/Users/ROHAN/IotSimulation/OneHour/50KB/50KBTrials/TRIAL[1]50kb/50KB_AES_Enc\"\n",
    "folder_path2 = \"C:/Users/ROHAN/IotSimulation/OneHour/50KB/50KBTrials/TRIAL[1]50kb/50KB_AES_Enc_key\"\n",
    "driver.create_users_with_files(folder_path1, folder_path2)\n",
    "\n",
    "# Count users with 'EMP008' in their file names\n",
    "users_count, time_taken = driver.count_users_by_filename_keyword(\"EMP003\")\n",
    "print(f\"Time taken: {time_taken} seconds\")\n",
    "print(f\"Number of users with 'EMP008' in their filenames: {users_count}\")\n",
    "\n",
    "# Retrieve specific user info if needed\n",
    "# user_info, time_taken = driver.get_user_info(\"user_4\")\n",
    "# print(f\"Time taken: {time_taken} seconds\")\n",
    "# print(\"User Info:\", user_info)\n",
    "\n",
    "driver.close()\n"
   ]
  },
  {
   "cell_type": "code",
   "execution_count": null,
   "id": "5e416121",
   "metadata": {},
   "outputs": [],
   "source": []
  },
  {
   "cell_type": "code",
   "execution_count": null,
   "id": "4cc41fd7",
   "metadata": {},
   "outputs": [],
   "source": []
  },
  {
   "cell_type": "code",
   "execution_count": 75,
   "id": "4742968f",
   "metadata": {},
   "outputs": [
    {
     "name": "stderr",
     "output_type": "stream",
     "text": [
      "C:\\Users\\ROHAN\\AppData\\Local\\Temp\\ipykernel_17240\\1765769980.py:43: DeprecationWarning: read_transaction has been renamed to execute_read\n",
      "  result = session.read_transaction(self._find_users_and_files_by_keyword, keyword)\n"
     ]
    },
    {
     "name": "stdout",
     "output_type": "stream",
     "text": [
      "Time taken: 4.1333582401275635 seconds\n",
      "Number of unique users with 'EMP008' in their filenames: 6\n",
      "User: user_100, File: encrypted_user_100_auth_EMP031_EMP058_EMP068_EMP050_aggregated.txt\n",
      "User: user_19, File: encrypted_user_19_auth_EMP025_EMP058_EMP026_EMP072_EMP059_EMP008_aggregated.txt\n",
      "User: user_31, File: encrypted_user_31_auth_EMP058_EMP017_EMP073_EMP045_EMP041_EMP046_EMP030_EMP009_EMP040_aggregated.txt\n",
      "User: user_41, File: encrypted_user_41_auth_EMP080_EMP041_EMP076_EMP074_EMP018_EMP058_aggregated.txt\n",
      "User: user_56, File: encrypted_user_56_auth_EMP013_EMP083_EMP058_EMP003_EMP024_EMP017_EMP063_EMP020_EMP002_aggregated.txt\n",
      "User: user_88, File: encrypted_user_88_auth_EMP058_EMP038_aggregated.txt\n",
      "User: user_100, File: key_user_100_auth_EMP031_EMP058_EMP068_EMP050_aggregated.txt.bin\n",
      "User: user_19, File: key_user_19_auth_EMP025_EMP058_EMP026_EMP072_EMP059_EMP008_aggregated.txt.bin\n",
      "User: user_31, File: key_user_31_auth_EMP058_EMP017_EMP073_EMP045_EMP041_EMP046_EMP030_EMP009_EMP040_aggregated.txt.bin\n",
      "User: user_41, File: key_user_41_auth_EMP080_EMP041_EMP076_EMP074_EMP018_EMP058_aggregated.txt.bin\n",
      "User: user_56, File: key_user_56_auth_EMP013_EMP083_EMP058_EMP003_EMP024_EMP017_EMP063_EMP020_EMP002_aggregated.txt.bin\n",
      "User: user_88, File: key_user_88_auth_EMP058_EMP038_aggregated.txt.bin\n",
      "User: user_100, File: encrypted_user_100_auth_EMP031_EMP058_EMP068_EMP050_aggregated.txt\n",
      "User: user_19, File: encrypted_user_19_auth_EMP025_EMP058_EMP026_EMP072_EMP059_EMP008_aggregated.txt\n",
      "User: user_31, File: encrypted_user_31_auth_EMP058_EMP017_EMP073_EMP045_EMP041_EMP046_EMP030_EMP009_EMP040_aggregated.txt\n",
      "User: user_41, File: encrypted_user_41_auth_EMP080_EMP041_EMP076_EMP074_EMP018_EMP058_aggregated.txt\n",
      "User: user_56, File: encrypted_user_56_auth_EMP013_EMP083_EMP058_EMP003_EMP024_EMP017_EMP063_EMP020_EMP002_aggregated.txt\n",
      "User: user_88, File: encrypted_user_88_auth_EMP058_EMP038_aggregated.txt\n",
      "User: user_100, File: key_user_100_auth_EMP031_EMP058_EMP068_EMP050_aggregated.txt.bin\n",
      "User: user_19, File: key_user_19_auth_EMP025_EMP058_EMP026_EMP072_EMP059_EMP008_aggregated.txt.bin\n",
      "User: user_31, File: key_user_31_auth_EMP058_EMP017_EMP073_EMP045_EMP041_EMP046_EMP030_EMP009_EMP040_aggregated.txt.bin\n",
      "User: user_41, File: key_user_41_auth_EMP080_EMP041_EMP076_EMP074_EMP018_EMP058_aggregated.txt.bin\n",
      "User: user_56, File: key_user_56_auth_EMP013_EMP083_EMP058_EMP003_EMP024_EMP017_EMP063_EMP020_EMP002_aggregated.txt.bin\n",
      "User: user_88, File: key_user_88_auth_EMP058_EMP038_aggregated.txt.bin\n"
     ]
    }
   ],
   "source": [
    "import os\n",
    "import time\n",
    "from neo4j import GraphDatabase\n",
    "\n",
    "class GraphDBManager:\n",
    "    def __init__(self, uri, user, password):\n",
    "        self.driver = GraphDatabase.driver(uri, auth=(user, password))\n",
    "\n",
    "    def close(self):\n",
    "        self.driver.close()\n",
    "\n",
    "    def create_users_with_files(self, folder_path1, folder_path2):\n",
    "        with self.driver.session() as session:\n",
    "            for file_path in os.listdir(folder_path1):\n",
    "                full_path = os.path.join(folder_path1, file_path)\n",
    "                user_name = self.extract_user_from_filename(file_path)\n",
    "                session.write_transaction(self._create_and_link, user_name, full_path)\n",
    "\n",
    "            for file_path in os.listdir(folder_path2):\n",
    "                full_path = os.path.join(folder_path2, file_path)\n",
    "                user_name = self.extract_user_from_filename(file_path)\n",
    "                session.write_transaction(self._create_and_link, user_name, full_path)\n",
    "\n",
    "    def extract_user_from_filename(self, filename):\n",
    "        parts = filename.split('_')\n",
    "        user_index = parts.index('user') + 1\n",
    "        return 'user_' + parts[user_index]\n",
    "\n",
    "    @staticmethod\n",
    "    def _create_and_link(tx, user_name, file_path):\n",
    "        file_name = os.path.basename(file_path)\n",
    "        tx.run(\"MERGE (user:User {name: $user_name})\", user_name=user_name)\n",
    "        tx.run(\n",
    "            \"MATCH (user:User {name: $user_name}) \"\n",
    "            \"MERGE (file:File {name: $file_name, path: $file_path}) \"\n",
    "            \"MERGE (user)-[:CONTAINS]->(file)\",\n",
    "            user_name=user_name, file_name=file_name, file_path=file_path\n",
    "        )\n",
    "\n",
    "    def get_users_and_files_by_keyword(self, keyword):\n",
    "        with self.driver.session() as session:\n",
    "            start_time = time.time()\n",
    "            result = session.read_transaction(self._find_users_and_files_by_keyword, keyword)\n",
    "            end_time = time.time()\n",
    "            time_taken = end_time - start_time\n",
    "            user_count = len(set([record['user']['name'] for record in result]))\n",
    "            return result, user_count, time_taken\n",
    "\n",
    "    @staticmethod\n",
    "    def _find_users_and_files_by_keyword(tx, keyword):\n",
    "        query = (\n",
    "            \"MATCH (user:User)-[:CONTAINS]->(file:File) \"\n",
    "            \"WHERE file.name CONTAINS $keyword \"\n",
    "            \"RETURN user, file.name AS fileName\"\n",
    "        )\n",
    "        result = tx.run(query, keyword=keyword)\n",
    "        return [record for record in result]\n",
    "\n",
    "# Usage example\n",
    "uri = \"neo4j://localhost:7687\"\n",
    "driver = GraphDBManager(uri, \"neo4j\", \"Rohan@556\")\n",
    "\n",
    "# Assuming you've already created users and their files\n",
    "users_files, user_count, time_taken = driver.get_users_and_files_by_keyword(\"EMP058\")\n",
    "print(f\"Time taken: {time_taken} seconds\")\n",
    "print(f\"Number of unique users with 'EMP008' in their filenames: {user_count}\")\n",
    "for record in users_files:\n",
    "    print(f\"User: {record['user']['name']}, File: {record['fileName']}\")\n",
    "\n",
    "driver.close()\n"
   ]
  },
  {
   "cell_type": "code",
   "execution_count": null,
   "id": "60289c0a",
   "metadata": {},
   "outputs": [],
   "source": []
  },
  {
   "cell_type": "code",
   "execution_count": null,
   "id": "2f219eca",
   "metadata": {},
   "outputs": [],
   "source": []
  },
  {
   "cell_type": "code",
   "execution_count": null,
   "id": "9de0b60c",
   "metadata": {},
   "outputs": [],
   "source": []
  },
  {
   "cell_type": "code",
   "execution_count": null,
   "id": "5be7cf31",
   "metadata": {},
   "outputs": [],
   "source": []
  }
 ],
 "metadata": {
  "kernelspec": {
   "display_name": "Python 3 (ipykernel)",
   "language": "python",
   "name": "python3"
  },
  "language_info": {
   "codemirror_mode": {
    "name": "ipython",
    "version": 3
   },
   "file_extension": ".py",
   "mimetype": "text/x-python",
   "name": "python",
   "nbconvert_exporter": "python",
   "pygments_lexer": "ipython3",
   "version": "3.11.3"
  }
 },
 "nbformat": 4,
 "nbformat_minor": 5
}

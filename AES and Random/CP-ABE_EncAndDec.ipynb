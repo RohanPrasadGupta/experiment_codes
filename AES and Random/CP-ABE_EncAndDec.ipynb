{
 "cells": [
  {
   "cell_type": "code",
   "execution_count": null,
   "id": "d989098c",
   "metadata": {},
   "outputs": [],
   "source": []
  },
  {
   "cell_type": "markdown",
   "id": "53429781",
   "metadata": {},
   "source": [
    "# CPABE Encryption"
   ]
  },
  {
   "cell_type": "code",
   "execution_count": null,
   "id": "1b0898b1",
   "metadata": {},
   "outputs": [],
   "source": []
  },
  {
   "cell_type": "code",
   "execution_count": null,
   "id": "d244c07d",
   "metadata": {},
   "outputs": [],
   "source": []
  },
  {
   "cell_type": "code",
   "execution_count": 7,
   "id": "9a5d1e49",
   "metadata": {},
   "outputs": [
    {
     "name": "stdout",
     "output_type": "stream",
     "text": [
      "Secret Key for User ID 12345 with attributes ['Nurse', 'Neurology'] saved to keys\\user_key_12345.bin\n"
     ]
    }
   ],
   "source": [
    "import hashlib\n",
    "import os\n",
    "import random\n",
    "\n",
    "# Function to generate random medical attributes\n",
    "def generate_random_attributes():\n",
    "    roles = ['Doctor', 'Nurse', 'Surgeon', 'Therapist', 'Pharmacist']\n",
    "    departments = ['Cardiology', 'Neurology', 'Orthopedics', 'Pediatrics', 'Oncology']\n",
    "    return [random.choice(roles), random.choice(departments)]\n",
    "\n",
    "# Function to generate a user key\n",
    "def generate_user_key(user_attributes, master_key):\n",
    "    attr_string = '_'.join(sorted(user_attributes)).encode('utf-8')\n",
    "    return hashlib.sha256(attr_string + master_key).digest()\n",
    "\n",
    "# Generate master key (in a real-world scenario, this should be stored securely)\n",
    "master_key = os.urandom(32)\n",
    "\n",
    "# Generate random attributes for a user\n",
    "attributes = generate_random_attributes()\n",
    "user_id = '12345'  # Example user ID, replace with actual user ID\n",
    "user_key = generate_user_key(attributes, master_key)\n",
    "\n",
    "# Save the key to a file\n",
    "key_folder = 'keys'\n",
    "os.makedirs(key_folder, exist_ok=True)\n",
    "key_file_path = os.path.join(key_folder, f'user_key_{user_id}.bin')\n",
    "\n",
    "with open(key_file_path, 'wb') as key_file:\n",
    "    key_file.write(user_key)\n",
    "\n",
    "print(f\"Secret Key for User ID {user_id} with attributes {attributes} saved to {key_file_path}\")\n"
   ]
  },
  {
   "cell_type": "code",
   "execution_count": null,
   "id": "bbbb03f0",
   "metadata": {},
   "outputs": [],
   "source": []
  },
  {
   "cell_type": "code",
   "execution_count": 9,
   "id": "79a26cc4",
   "metadata": {},
   "outputs": [
    {
     "name": "stdout",
     "output_type": "stream",
     "text": [
      "File C:/Users/ROHAN/IotSimulation/CPABE/ex1.txt.bin encrypted to C:/Users/ROHAN/IotSimulation/CPABE/ex1.txt.bin.enc\n"
     ]
    }
   ],
   "source": [
    "from Crypto.Cipher import AES\n",
    "from Crypto.Util.Padding import pad\n",
    "import os\n",
    "\n",
    "def load_user_key(user_id):\n",
    "    key_file_path = os.path.join('keys', f'user_key_{user_id}.bin')\n",
    "    with open(key_file_path, 'rb') as key_file:\n",
    "        return key_file.read()\n",
    "\n",
    "def encrypt_file(file_path, key):\n",
    "    with open(file_path, 'rb') as f:\n",
    "        data = f.read()\n",
    "\n",
    "    cipher = AES.new(key, AES.MODE_CBC)\n",
    "    ct_bytes = cipher.encrypt(pad(data, AES.block_size))\n",
    "    iv = cipher.iv\n",
    "\n",
    "    encrypted_file_path = file_path + '.enc'\n",
    "    with open(encrypted_file_path, 'wb') as ef:\n",
    "        ef.write(iv + ct_bytes)\n",
    "\n",
    "    return encrypted_file_path\n",
    "\n",
    "# User ID and file to encrypt\n",
    "user_id = '12345'  # Replace with the target user's ID\n",
    "file_to_encrypt = 'C:/Users/ROHAN/IotSimulation/CPABE/ex1.txt.bin'\n",
    "\n",
    "# Load user key and encrypt file\n",
    "user_key = load_user_key(user_id)\n",
    "encrypted_file_path = encrypt_file(file_to_encrypt, user_key)\n",
    "\n",
    "print(f\"File {file_to_encrypt} encrypted to {encrypted_file_path}\")\n"
   ]
  },
  {
   "cell_type": "code",
   "execution_count": null,
   "id": "9b82184e",
   "metadata": {},
   "outputs": [],
   "source": []
  },
  {
   "cell_type": "code",
   "execution_count": 16,
   "id": "1277e6e5",
   "metadata": {},
   "outputs": [
    {
     "name": "stdout",
     "output_type": "stream",
     "text": [
      "File C:/Users/ROHAN/IotSimulation/CPABE/ex1.txt.bin.enc decrypted to decrypted_files\\ex1.txt.bin\n"
     ]
    }
   ],
   "source": [
    "from Crypto.Cipher import AES\n",
    "from Crypto.Util.Padding import unpad\n",
    "import os\n",
    "\n",
    "def load_user_key(user_id):\n",
    "    key_file_path = os.path.join('keys', f'user_key_{user_id}.bin')\n",
    "    with open(key_file_path, 'rb') as key_file:\n",
    "        return key_file.read()\n",
    "\n",
    "def decrypt_file(encrypted_file_path, key, output_folder):\n",
    "    with open(encrypted_file_path, 'rb') as ef:\n",
    "        iv = ef.read(16)  # AES block size is 16 bytes\n",
    "        ct_bytes = ef.read()\n",
    "\n",
    "    cipher = AES.new(key, AES.MODE_CBC, iv)\n",
    "    pt = unpad(cipher.decrypt(ct_bytes), AES.block_size)\n",
    "\n",
    "    # Create the output folder if it doesn't exist\n",
    "    os.makedirs(output_folder, exist_ok=True)\n",
    "    \n",
    "    # Prepare the path for the decrypted file\n",
    "    decrypted_file_name = os.path.basename(encrypted_file_path).replace('.enc', '')\n",
    "    decrypted_file_path = os.path.join(output_folder, decrypted_file_name)\n",
    "\n",
    "    with open(decrypted_file_path, 'wb') as df:\n",
    "        df.write(pt)\n",
    "\n",
    "    return decrypted_file_path\n",
    "\n",
    "# User ID and file to decrypt\n",
    "user_id = '12345'  # Replace with the target user's ID\n",
    "file_to_decrypt = 'C:/Users/ROHAN/IotSimulation/CPABE/ex1.txt.bin.enc'  # The encrypted file\n",
    "output_folder = 'decrypted_files'  # Folder to save decrypted files\n",
    "\n",
    "# Load user key and decrypt file\n",
    "user_key = load_user_key(user_id)\n",
    "decrypted_file_path = decrypt_file(file_to_decrypt, user_key, output_folder)\n",
    "\n",
    "print(f\"File {file_to_decrypt} decrypted to {decrypted_file_path}\")\n"
   ]
  },
  {
   "cell_type": "code",
   "execution_count": null,
   "id": "7f110f26",
   "metadata": {},
   "outputs": [],
   "source": []
  },
  {
   "cell_type": "code",
   "execution_count": null,
   "id": "ec1aff8d",
   "metadata": {},
   "outputs": [],
   "source": []
  },
  {
   "cell_type": "code",
   "execution_count": null,
   "id": "ccb32838",
   "metadata": {},
   "outputs": [],
   "source": []
  },
  {
   "cell_type": "markdown",
   "id": "d754f0f1",
   "metadata": {},
   "source": [
    "# Creating SK for the users and CSV to add to The User IoT data"
   ]
  },
  {
   "cell_type": "code",
   "execution_count": 1,
   "id": "fc357fa7",
   "metadata": {},
   "outputs": [
    {
     "name": "stdout",
     "output_type": "stream",
     "text": [
      "Generated key for EMP001 (Doctor1) stored in employee_keys\\EMP001_key.bin\n",
      "Generated key for EMP002 (Nurse1) stored in employee_keys\\EMP002_key.bin\n",
      "Generated key for EMP003 (Surgeon1) stored in employee_keys\\EMP003_key.bin\n",
      "Generated key for EMP004 (Therapist1) stored in employee_keys\\EMP004_key.bin\n",
      "Generated key for EMP005 (Pharmacist1) stored in employee_keys\\EMP005_key.bin\n",
      "Generated key for EMP006 (Radiologist1) stored in employee_keys\\EMP006_key.bin\n",
      "Generated key for EMP007 (Pathologist1) stored in employee_keys\\EMP007_key.bin\n",
      "Generated key for EMP008 (Nurse2) stored in employee_keys\\EMP008_key.bin\n",
      "Generated key for EMP009 (Doctor2) stored in employee_keys\\EMP009_key.bin\n",
      "Generated key for EMP010 (Surgeon2) stored in employee_keys\\EMP010_key.bin\n",
      "Generated key for EMP011 (Therapist2) stored in employee_keys\\EMP011_key.bin\n",
      "Generated key for EMP012 (Pharmacist2) stored in employee_keys\\EMP012_key.bin\n",
      "Generated key for EMP013 (Radiologist2) stored in employee_keys\\EMP013_key.bin\n",
      "Generated key for EMP014 (Pathologist2) stored in employee_keys\\EMP014_key.bin\n",
      "Generated key for EMP015 (Nurse3) stored in employee_keys\\EMP015_key.bin\n",
      "Generated key for EMP016 (Doctor3) stored in employee_keys\\EMP016_key.bin\n",
      "Generated key for EMP017 (Surgeon3) stored in employee_keys\\EMP017_key.bin\n",
      "Generated key for EMP018 (Therapist3) stored in employee_keys\\EMP018_key.bin\n",
      "Generated key for EMP019 (Pharmacist3) stored in employee_keys\\EMP019_key.bin\n",
      "Generated key for EMP020 (Radiologist3) stored in employee_keys\\EMP020_key.bin\n",
      "User data saved to DataUser.csv\n"
     ]
    }
   ],
   "source": [
    "import hashlib\n",
    "import os\n",
    "import csv\n",
    "\n",
    "# Provided DataUser dictionary\n",
    "DataUser = {\n",
    "    'Doctor1': 'EMP001', 'Nurse1': 'EMP002', 'Surgeon1': 'EMP003', 'Therapist1': 'EMP004',\n",
    "    'Pharmacist1': 'EMP005', 'Radiologist1': 'EMP006', 'Pathologist1': 'EMP007',\n",
    "    'Nurse2': 'EMP008', 'Doctor2': 'EMP009', 'Surgeon2': 'EMP010', 'Therapist2': 'EMP011',\n",
    "    'Pharmacist2': 'EMP012', 'Radiologist2': 'EMP013', 'Pathologist2': 'EMP014',\n",
    "    'Nurse3': 'EMP015', 'Doctor3': 'EMP016', 'Surgeon3': 'EMP017', 'Therapist3': 'EMP018',\n",
    "    'Pharmacist3': 'EMP019', 'Radiologist3': 'EMP020'\n",
    "}\n",
    "\n",
    "# Function to generate a secret key for a user\n",
    "def generate_user_key(user_role, master_key, user_id):\n",
    "    role_string = user_role.encode('utf-8') + user_id.encode('utf-8')\n",
    "    return hashlib.sha256(role_string + master_key).digest()\n",
    "\n",
    "# Generate a master key (in a real-world scenario, this should be stored securely)\n",
    "master_key = os.urandom(32)\n",
    "\n",
    "# Directory to store secret keys\n",
    "key_folder = 'employee_keys'\n",
    "os.makedirs(key_folder, exist_ok=True)\n",
    "\n",
    "# File to store user data\n",
    "csv_file_path = 'DataUser.csv'\n",
    "\n",
    "# Prepare to write data to CSV file\n",
    "with open(csv_file_path, mode='w', newline='') as csv_file:\n",
    "    csv_writer = csv.writer(csv_file)\n",
    "    csv_writer.writerow(['UserID', 'Role'])  # Writing header\n",
    "\n",
    "    # Generate and store keys for the users in DataUser\n",
    "    for user_role, user_id in DataUser.items():\n",
    "        user_key = generate_user_key(user_role, master_key, user_id)\n",
    "\n",
    "        # Save the key to a file\n",
    "        key_file_path = os.path.join(key_folder, f'{user_id}_key.bin')\n",
    "        with open(key_file_path, 'wb') as key_file:\n",
    "            key_file.write(user_key)\n",
    "\n",
    "        # Write user data to CSV file\n",
    "        csv_writer.writerow([user_id, user_role])\n",
    "\n",
    "        print(f\"Generated key for {user_id} ({user_role}) stored in {key_file_path}\")\n",
    "\n",
    "print(f\"User data saved to {csv_file_path}\")\n"
   ]
  },
  {
   "cell_type": "code",
   "execution_count": null,
   "id": "aa8d406d",
   "metadata": {},
   "outputs": [],
   "source": []
  },
  {
   "cell_type": "code",
   "execution_count": null,
   "id": "6408d768",
   "metadata": {},
   "outputs": [],
   "source": []
  },
  {
   "cell_type": "markdown",
   "id": "d1fc133c",
   "metadata": {},
   "source": [
    "# CPABE encryption"
   ]
  },
  {
   "cell_type": "code",
   "execution_count": null,
   "id": "f363c06d",
   "metadata": {},
   "outputs": [],
   "source": []
  },
  {
   "cell_type": "code",
   "execution_count": 4,
   "id": "b10081ee",
   "metadata": {},
   "outputs": [
    {
     "name": "stdout",
     "output_type": "stream",
     "text": [
      "File C:/Users/ROHAN/IotSimulation/CPABE\\key_iv_user_10_auth_EMP010_EMP008_merged_1.txt.bin encrypted to CPABE_Enc\\key_iv_user_10_auth_EMP010_EMP008_merged_1.txt.bin.enc\n",
      "File C:/Users/ROHAN/IotSimulation/CPABE\\key_iv_user_11_auth_EMP007_EMP004_merged_1.txt.bin encrypted to CPABE_Enc\\key_iv_user_11_auth_EMP007_EMP004_merged_1.txt.bin.enc\n",
      "File C:/Users/ROHAN/IotSimulation/CPABE\\key_iv_user_12_auth_EMP018_EMP012_merged_1.txt.bin encrypted to CPABE_Enc\\key_iv_user_12_auth_EMP018_EMP012_merged_1.txt.bin.enc\n",
      "File C:/Users/ROHAN/IotSimulation/CPABE\\key_iv_user_13_auth_EMP020_EMP003_merged_1.txt.bin encrypted to CPABE_Enc\\key_iv_user_13_auth_EMP020_EMP003_merged_1.txt.bin.enc\n",
      "File C:/Users/ROHAN/IotSimulation/CPABE\\key_iv_user_14_auth_EMP001_EMP009_EMP002_merged_1.txt.bin encrypted to CPABE_Enc\\key_iv_user_14_auth_EMP001_EMP009_EMP002_merged_1.txt.bin.enc\n",
      "File C:/Users/ROHAN/IotSimulation/CPABE\\key_iv_user_15_auth_EMP009_EMP013_EMP001_merged_1.txt.bin encrypted to CPABE_Enc\\key_iv_user_15_auth_EMP009_EMP013_EMP001_merged_1.txt.bin.enc\n",
      "File C:/Users/ROHAN/IotSimulation/CPABE\\key_iv_user_16_auth_EMP003_EMP010_EMP013_merged_1.txt.bin encrypted to CPABE_Enc\\key_iv_user_16_auth_EMP003_EMP010_EMP013_merged_1.txt.bin.enc\n",
      "File C:/Users/ROHAN/IotSimulation/CPABE\\key_iv_user_17_auth_EMP010_EMP017_merged_1.txt.bin encrypted to CPABE_Enc\\key_iv_user_17_auth_EMP010_EMP017_merged_1.txt.bin.enc\n",
      "File C:/Users/ROHAN/IotSimulation/CPABE\\key_iv_user_18_auth_EMP002_EMP004_merged_1.txt.bin encrypted to CPABE_Enc\\key_iv_user_18_auth_EMP002_EMP004_merged_1.txt.bin.enc\n",
      "File C:/Users/ROHAN/IotSimulation/CPABE\\key_iv_user_19_auth_EMP020_EMP007_merged_1.txt.bin encrypted to CPABE_Enc\\key_iv_user_19_auth_EMP020_EMP007_merged_1.txt.bin.enc\n",
      "File C:/Users/ROHAN/IotSimulation/CPABE\\key_iv_user_1_auth_EMP019_EMP017_merged_1.txt.bin encrypted to CPABE_Enc\\key_iv_user_1_auth_EMP019_EMP017_merged_1.txt.bin.enc\n",
      "File C:/Users/ROHAN/IotSimulation/CPABE\\key_iv_user_20_auth_EMP011_EMP015_merged_1.txt.bin encrypted to CPABE_Enc\\key_iv_user_20_auth_EMP011_EMP015_merged_1.txt.bin.enc\n",
      "File C:/Users/ROHAN/IotSimulation/CPABE\\key_iv_user_21_auth_EMP001_EMP016_EMP013_merged_1.txt.bin encrypted to CPABE_Enc\\key_iv_user_21_auth_EMP001_EMP016_EMP013_merged_1.txt.bin.enc\n",
      "File C:/Users/ROHAN/IotSimulation/CPABE\\key_iv_user_22_auth_EMP020_EMP010_merged_1.txt.bin encrypted to CPABE_Enc\\key_iv_user_22_auth_EMP020_EMP010_merged_1.txt.bin.enc\n",
      "File C:/Users/ROHAN/IotSimulation/CPABE\\key_iv_user_23_auth_EMP020_EMP006_merged_1.txt.bin encrypted to CPABE_Enc\\key_iv_user_23_auth_EMP020_EMP006_merged_1.txt.bin.enc\n",
      "File C:/Users/ROHAN/IotSimulation/CPABE\\key_iv_user_24_auth_EMP007_EMP006_EMP001_merged_1.txt.bin encrypted to CPABE_Enc\\key_iv_user_24_auth_EMP007_EMP006_EMP001_merged_1.txt.bin.enc\n",
      "File C:/Users/ROHAN/IotSimulation/CPABE\\key_iv_user_25_auth_EMP004_EMP003_EMP007_merged_1.txt.bin encrypted to CPABE_Enc\\key_iv_user_25_auth_EMP004_EMP003_EMP007_merged_1.txt.bin.enc\n",
      "File C:/Users/ROHAN/IotSimulation/CPABE\\key_iv_user_26_auth_EMP006_EMP019_EMP010_merged_1.txt.bin encrypted to CPABE_Enc\\key_iv_user_26_auth_EMP006_EMP019_EMP010_merged_1.txt.bin.enc\n",
      "File C:/Users/ROHAN/IotSimulation/CPABE\\key_iv_user_27_auth_EMP015_EMP005_EMP007_merged_1.txt.bin encrypted to CPABE_Enc\\key_iv_user_27_auth_EMP015_EMP005_EMP007_merged_1.txt.bin.enc\n",
      "File C:/Users/ROHAN/IotSimulation/CPABE\\key_iv_user_28_auth_EMP008_EMP014_merged_1.txt.bin encrypted to CPABE_Enc\\key_iv_user_28_auth_EMP008_EMP014_merged_1.txt.bin.enc\n",
      "File C:/Users/ROHAN/IotSimulation/CPABE\\key_iv_user_29_auth_EMP014_EMP013_merged_1.txt.bin encrypted to CPABE_Enc\\key_iv_user_29_auth_EMP014_EMP013_merged_1.txt.bin.enc\n",
      "File C:/Users/ROHAN/IotSimulation/CPABE\\key_iv_user_2_auth_EMP018_EMP004_EMP002_merged_1.txt.bin encrypted to CPABE_Enc\\key_iv_user_2_auth_EMP018_EMP004_EMP002_merged_1.txt.bin.enc\n",
      "File C:/Users/ROHAN/IotSimulation/CPABE\\key_iv_user_30_auth_EMP005_EMP020_merged_1.txt.bin encrypted to CPABE_Enc\\key_iv_user_30_auth_EMP005_EMP020_merged_1.txt.bin.enc\n",
      "File C:/Users/ROHAN/IotSimulation/CPABE\\key_iv_user_31_auth_EMP008_EMP020_EMP006_merged_1.txt.bin encrypted to CPABE_Enc\\key_iv_user_31_auth_EMP008_EMP020_EMP006_merged_1.txt.bin.enc\n",
      "File C:/Users/ROHAN/IotSimulation/CPABE\\key_iv_user_32_auth_EMP014_EMP012_EMP010_merged_1.txt.bin encrypted to CPABE_Enc\\key_iv_user_32_auth_EMP014_EMP012_EMP010_merged_1.txt.bin.enc\n",
      "File C:/Users/ROHAN/IotSimulation/CPABE\\key_iv_user_33_auth_EMP016_EMP008_merged_1.txt.bin encrypted to CPABE_Enc\\key_iv_user_33_auth_EMP016_EMP008_merged_1.txt.bin.enc\n",
      "File C:/Users/ROHAN/IotSimulation/CPABE\\key_iv_user_34_auth_EMP014_EMP006_merged_1.txt.bin encrypted to CPABE_Enc\\key_iv_user_34_auth_EMP014_EMP006_merged_1.txt.bin.enc\n",
      "File C:/Users/ROHAN/IotSimulation/CPABE\\key_iv_user_35_auth_EMP019_EMP007_merged_1.txt.bin encrypted to CPABE_Enc\\key_iv_user_35_auth_EMP019_EMP007_merged_1.txt.bin.enc\n",
      "File C:/Users/ROHAN/IotSimulation/CPABE\\key_iv_user_36_auth_EMP012_EMP020_EMP007_merged_1.txt.bin encrypted to CPABE_Enc\\key_iv_user_36_auth_EMP012_EMP020_EMP007_merged_1.txt.bin.enc\n",
      "File C:/Users/ROHAN/IotSimulation/CPABE\\key_iv_user_37_auth_EMP012_EMP001_merged_1.txt.bin encrypted to CPABE_Enc\\key_iv_user_37_auth_EMP012_EMP001_merged_1.txt.bin.enc\n",
      "File C:/Users/ROHAN/IotSimulation/CPABE\\key_iv_user_38_auth_EMP010_EMP017_merged_1.txt.bin encrypted to CPABE_Enc\\key_iv_user_38_auth_EMP010_EMP017_merged_1.txt.bin.enc\n",
      "File C:/Users/ROHAN/IotSimulation/CPABE\\key_iv_user_39_auth_EMP011_EMP014_EMP010_merged_1.txt.bin encrypted to CPABE_Enc\\key_iv_user_39_auth_EMP011_EMP014_EMP010_merged_1.txt.bin.enc\n",
      "File C:/Users/ROHAN/IotSimulation/CPABE\\key_iv_user_3_auth_EMP014_EMP011_EMP012_merged_1.txt.bin encrypted to CPABE_Enc\\key_iv_user_3_auth_EMP014_EMP011_EMP012_merged_1.txt.bin.enc\n",
      "File C:/Users/ROHAN/IotSimulation/CPABE\\key_iv_user_40_auth_EMP002_EMP016_merged_1.txt.bin encrypted to CPABE_Enc\\key_iv_user_40_auth_EMP002_EMP016_merged_1.txt.bin.enc\n",
      "File C:/Users/ROHAN/IotSimulation/CPABE\\key_iv_user_41_auth_EMP005_EMP002_merged_1.txt.bin encrypted to CPABE_Enc\\key_iv_user_41_auth_EMP005_EMP002_merged_1.txt.bin.enc\n",
      "File C:/Users/ROHAN/IotSimulation/CPABE\\key_iv_user_42_auth_EMP001_EMP009_EMP008_merged_1.txt.bin encrypted to CPABE_Enc\\key_iv_user_42_auth_EMP001_EMP009_EMP008_merged_1.txt.bin.enc\n",
      "File C:/Users/ROHAN/IotSimulation/CPABE\\key_iv_user_43_auth_EMP008_EMP006_merged_1.txt.bin encrypted to CPABE_Enc\\key_iv_user_43_auth_EMP008_EMP006_merged_1.txt.bin.enc\n",
      "File C:/Users/ROHAN/IotSimulation/CPABE\\key_iv_user_44_auth_EMP009_EMP016_merged_1.txt.bin encrypted to CPABE_Enc\\key_iv_user_44_auth_EMP009_EMP016_merged_1.txt.bin.enc\n",
      "File C:/Users/ROHAN/IotSimulation/CPABE\\key_iv_user_45_auth_EMP016_EMP020_EMP008_merged_1.txt.bin encrypted to CPABE_Enc\\key_iv_user_45_auth_EMP016_EMP020_EMP008_merged_1.txt.bin.enc\n",
      "File C:/Users/ROHAN/IotSimulation/CPABE\\key_iv_user_46_auth_EMP015_EMP019_EMP002_merged_1.txt.bin encrypted to CPABE_Enc\\key_iv_user_46_auth_EMP015_EMP019_EMP002_merged_1.txt.bin.enc\n",
      "File C:/Users/ROHAN/IotSimulation/CPABE\\key_iv_user_47_auth_EMP011_EMP019_merged_1.txt.bin encrypted to CPABE_Enc\\key_iv_user_47_auth_EMP011_EMP019_merged_1.txt.bin.enc\n",
      "File C:/Users/ROHAN/IotSimulation/CPABE\\key_iv_user_48_auth_EMP010_EMP014_merged_1.txt.bin encrypted to CPABE_Enc\\key_iv_user_48_auth_EMP010_EMP014_merged_1.txt.bin.enc\n",
      "File C:/Users/ROHAN/IotSimulation/CPABE\\key_iv_user_49_auth_EMP018_EMP010_merged_1.txt.bin encrypted to CPABE_Enc\\key_iv_user_49_auth_EMP018_EMP010_merged_1.txt.bin.enc\n",
      "File C:/Users/ROHAN/IotSimulation/CPABE\\key_iv_user_4_auth_EMP013_EMP009_EMP005_merged_1.txt.bin encrypted to CPABE_Enc\\key_iv_user_4_auth_EMP013_EMP009_EMP005_merged_1.txt.bin.enc\n",
      "File C:/Users/ROHAN/IotSimulation/CPABE\\key_iv_user_50_auth_EMP012_EMP001_merged_1.txt.bin encrypted to CPABE_Enc\\key_iv_user_50_auth_EMP012_EMP001_merged_1.txt.bin.enc\n",
      "File C:/Users/ROHAN/IotSimulation/CPABE\\key_iv_user_5_auth_EMP016_EMP003_merged_1.txt.bin encrypted to CPABE_Enc\\key_iv_user_5_auth_EMP016_EMP003_merged_1.txt.bin.enc\n",
      "File C:/Users/ROHAN/IotSimulation/CPABE\\key_iv_user_6_auth_EMP001_EMP015_merged_1.txt.bin encrypted to CPABE_Enc\\key_iv_user_6_auth_EMP001_EMP015_merged_1.txt.bin.enc\n",
      "File C:/Users/ROHAN/IotSimulation/CPABE\\key_iv_user_7_auth_EMP006_EMP013_merged_1.txt.bin encrypted to CPABE_Enc\\key_iv_user_7_auth_EMP006_EMP013_merged_1.txt.bin.enc\n",
      "File C:/Users/ROHAN/IotSimulation/CPABE\\key_iv_user_8_auth_EMP009_EMP017_EMP015_merged_1.txt.bin encrypted to CPABE_Enc\\key_iv_user_8_auth_EMP009_EMP017_EMP015_merged_1.txt.bin.enc\n",
      "File C:/Users/ROHAN/IotSimulation/CPABE\\key_iv_user_9_auth_EMP015_EMP008_EMP005_merged_1.txt.bin encrypted to CPABE_Enc\\key_iv_user_9_auth_EMP015_EMP008_EMP005_merged_1.txt.bin.enc\n"
     ]
    }
   ],
   "source": [
    "from Crypto.Cipher import AES\n",
    "from Crypto.Util.Padding import pad\n",
    "import os\n",
    "import hashlib\n",
    "import re\n",
    "\n",
    "def load_user_key(user_id, key_folder='employee_keys'):\n",
    "    key_file_path = os.path.join(key_folder, f'{user_id}_key.bin')\n",
    "    with open(key_file_path, 'rb') as key_file:\n",
    "        return key_file.read()\n",
    "\n",
    "def combine_keys(user_ids):\n",
    "    combined_key = b''\n",
    "    for user_id in user_ids:\n",
    "        key = load_user_key(user_id)\n",
    "        if key:\n",
    "            combined_key += key\n",
    "    return hashlib.sha256(combined_key).digest()\n",
    "\n",
    "def extract_user_ids_from_filename(filename):\n",
    "    pattern = r'EMP\\d+'\n",
    "    return re.findall(pattern, filename)\n",
    "\n",
    "def encrypt_file(file_path, combined_key, output_folder):\n",
    "    with open(file_path, 'rb') as f:\n",
    "        data = f.read()\n",
    "\n",
    "    cipher = AES.new(combined_key, AES.MODE_CBC)\n",
    "    ct_bytes = cipher.encrypt(pad(data, AES.block_size))\n",
    "    iv = cipher.iv\n",
    "\n",
    "    encrypted_file_path = os.path.join(output_folder, os.path.basename(file_path) + '.enc')\n",
    "    with open(encrypted_file_path, 'wb') as ef:\n",
    "        ef.write(iv + ct_bytes)\n",
    "\n",
    "    return encrypted_file_path\n",
    "\n",
    "# Directory containing files to encrypt\n",
    "files_directory = 'C:/Users/ROHAN/IotSimulation/CPABE'\n",
    "encrypted_files_directory = 'CPABE_Enc'\n",
    "os.makedirs(encrypted_files_directory, exist_ok=True)\n",
    "\n",
    "# Encrypt each file in the directory\n",
    "for file in os.listdir(files_directory):\n",
    "    file_path = os.path.join(files_directory, file)\n",
    "    if os.path.isfile(file_path):\n",
    "        user_ids = extract_user_ids_from_filename(file)\n",
    "        combined_key = combine_keys(user_ids)\n",
    "        encrypted_file_path = encrypt_file(file_path, combined_key, encrypted_files_directory)\n",
    "        print(f\"File {file_path} encrypted to {encrypted_file_path}\")\n"
   ]
  },
  {
   "cell_type": "code",
   "execution_count": null,
   "id": "6179d4e1",
   "metadata": {},
   "outputs": [],
   "source": []
  },
  {
   "cell_type": "code",
   "execution_count": null,
   "id": "2bf22d21",
   "metadata": {},
   "outputs": [],
   "source": []
  },
  {
   "cell_type": "code",
   "execution_count": null,
   "id": "2ffdc8cf",
   "metadata": {},
   "outputs": [],
   "source": []
  },
  {
   "cell_type": "code",
   "execution_count": null,
   "id": "0b5a1c62",
   "metadata": {},
   "outputs": [],
   "source": []
  },
  {
   "cell_type": "code",
   "execution_count": 6,
   "id": "f73944a9",
   "metadata": {},
   "outputs": [
    {
     "ename": "ValueError",
     "evalue": "Padding is incorrect.",
     "output_type": "error",
     "traceback": [
      "\u001b[1;31m---------------------------------------------------------------------------\u001b[0m",
      "\u001b[1;31mValueError\u001b[0m                                Traceback (most recent call last)",
      "Cell \u001b[1;32mIn[6], line 29\u001b[0m\n\u001b[0;32m     27\u001b[0m decrypted_files_directory \u001b[38;5;241m=\u001b[39m \u001b[38;5;124m'\u001b[39m\u001b[38;5;124mCPABE_Dec\u001b[39m\u001b[38;5;124m'\u001b[39m\n\u001b[0;32m     28\u001b[0m os\u001b[38;5;241m.\u001b[39mmakedirs(decrypted_files_directory, exist_ok\u001b[38;5;241m=\u001b[39m\u001b[38;5;28;01mTrue\u001b[39;00m)\n\u001b[1;32m---> 29\u001b[0m decrypted_file_path \u001b[38;5;241m=\u001b[39m decrypt_file(encrypted_file_to_decrypt, combined_key, decrypted_files_directory)\n\u001b[0;32m     31\u001b[0m \u001b[38;5;28mprint\u001b[39m(\u001b[38;5;124mf\u001b[39m\u001b[38;5;124m\"\u001b[39m\u001b[38;5;124mFile \u001b[39m\u001b[38;5;132;01m{\u001b[39;00mencrypted_file_to_decrypt\u001b[38;5;132;01m}\u001b[39;00m\u001b[38;5;124m decrypted to \u001b[39m\u001b[38;5;132;01m{\u001b[39;00mdecrypted_file_path\u001b[38;5;132;01m}\u001b[39;00m\u001b[38;5;124m\"\u001b[39m)\n",
      "Cell \u001b[1;32mIn[6], line 11\u001b[0m, in \u001b[0;36mdecrypt_file\u001b[1;34m(encrypted_file_path, combined_key, output_folder)\u001b[0m\n\u001b[0;32m      8\u001b[0m     ct_bytes \u001b[38;5;241m=\u001b[39m ef\u001b[38;5;241m.\u001b[39mread()\n\u001b[0;32m     10\u001b[0m cipher \u001b[38;5;241m=\u001b[39m AES\u001b[38;5;241m.\u001b[39mnew(combined_key, AES\u001b[38;5;241m.\u001b[39mMODE_CBC, iv)\n\u001b[1;32m---> 11\u001b[0m pt \u001b[38;5;241m=\u001b[39m unpad(cipher\u001b[38;5;241m.\u001b[39mdecrypt(ct_bytes), AES\u001b[38;5;241m.\u001b[39mblock_size)\n\u001b[0;32m     13\u001b[0m decrypted_file_path \u001b[38;5;241m=\u001b[39m os\u001b[38;5;241m.\u001b[39mpath\u001b[38;5;241m.\u001b[39mjoin(output_folder, os\u001b[38;5;241m.\u001b[39mpath\u001b[38;5;241m.\u001b[39mbasename(encrypted_file_path)\u001b[38;5;241m.\u001b[39mreplace(\u001b[38;5;124m'\u001b[39m\u001b[38;5;124m.enc\u001b[39m\u001b[38;5;124m'\u001b[39m, \u001b[38;5;124m'\u001b[39m\u001b[38;5;124m'\u001b[39m))\n\u001b[0;32m     14\u001b[0m \u001b[38;5;28;01mwith\u001b[39;00m \u001b[38;5;28mopen\u001b[39m(decrypted_file_path, \u001b[38;5;124m'\u001b[39m\u001b[38;5;124mwb\u001b[39m\u001b[38;5;124m'\u001b[39m) \u001b[38;5;28;01mas\u001b[39;00m df:\n",
      "File \u001b[1;32m~\\anaconda3\\Lib\\site-packages\\Crypto\\Util\\Padding.py:92\u001b[0m, in \u001b[0;36munpad\u001b[1;34m(padded_data, block_size, style)\u001b[0m\n\u001b[0;32m     90\u001b[0m padding_len \u001b[38;5;241m=\u001b[39m bord(padded_data[\u001b[38;5;241m-\u001b[39m\u001b[38;5;241m1\u001b[39m])\n\u001b[0;32m     91\u001b[0m \u001b[38;5;28;01mif\u001b[39;00m padding_len\u001b[38;5;241m<\u001b[39m\u001b[38;5;241m1\u001b[39m \u001b[38;5;129;01mor\u001b[39;00m padding_len\u001b[38;5;241m>\u001b[39m\u001b[38;5;28mmin\u001b[39m(block_size, pdata_len):\n\u001b[1;32m---> 92\u001b[0m     \u001b[38;5;28;01mraise\u001b[39;00m \u001b[38;5;167;01mValueError\u001b[39;00m(\u001b[38;5;124m\"\u001b[39m\u001b[38;5;124mPadding is incorrect.\u001b[39m\u001b[38;5;124m\"\u001b[39m)\n\u001b[0;32m     93\u001b[0m \u001b[38;5;28;01mif\u001b[39;00m style \u001b[38;5;241m==\u001b[39m \u001b[38;5;124m'\u001b[39m\u001b[38;5;124mpkcs7\u001b[39m\u001b[38;5;124m'\u001b[39m:\n\u001b[0;32m     94\u001b[0m     \u001b[38;5;28;01mif\u001b[39;00m padded_data[\u001b[38;5;241m-\u001b[39mpadding_len:]\u001b[38;5;241m!=\u001b[39mbchr(padding_len)\u001b[38;5;241m*\u001b[39mpadding_len:\n",
      "\u001b[1;31mValueError\u001b[0m: Padding is incorrect."
     ]
    }
   ],
   "source": [
    "from Crypto.Cipher import AES\n",
    "from Crypto.Util.Padding import unpad\n",
    "import os\n",
    "\n",
    "def decrypt_file(encrypted_file_path, combined_key, output_folder):\n",
    "    with open(encrypted_file_path, 'rb') as ef:\n",
    "        iv = ef.read(16)\n",
    "        ct_bytes = ef.read()\n",
    "\n",
    "    cipher = AES.new(combined_key, AES.MODE_CBC, iv)\n",
    "    pt = unpad(cipher.decrypt(ct_bytes), AES.block_size)\n",
    "\n",
    "    decrypted_file_path = os.path.join(output_folder, os.path.basename(encrypted_file_path).replace('.enc', ''))\n",
    "    with open(decrypted_file_path, 'wb') as df:\n",
    "        df.write(pt)\n",
    "\n",
    "    return decrypted_file_path\n",
    "\n",
    "# User IDs and encrypted file to decrypt\n",
    "user_ids = ['EMP001', 'EMP002', 'EMP003']\n",
    "encrypted_file_to_decrypt = 'C:/Users/ROHAN/IotSimulation/CPABE_Enc/key_iv_user_1_auth_EMP019_EMP017_merged_1.txt.bin.enc'\n",
    "\n",
    "# Combine keys of specified users\n",
    "combined_key = combine_keys(user_ids)\n",
    "\n",
    "# Decrypt the file and save in 'decrypted_files' directory\n",
    "decrypted_files_directory = 'CPABE_Dec'\n",
    "os.makedirs(decrypted_files_directory, exist_ok=True)\n",
    "decrypted_file_path = decrypt_file(encrypted_file_to_decrypt, combined_key, decrypted_files_directory)\n",
    "\n",
    "print(f\"File {encrypted_file_to_decrypt} decrypted to {decrypted_file_path}\")\n"
   ]
  },
  {
   "cell_type": "code",
   "execution_count": null,
   "id": "767ac0ef",
   "metadata": {},
   "outputs": [],
   "source": []
  },
  {
   "cell_type": "code",
   "execution_count": null,
   "id": "92bba96f",
   "metadata": {},
   "outputs": [],
   "source": []
  },
  {
   "cell_type": "code",
   "execution_count": null,
   "id": "6c6997bb",
   "metadata": {},
   "outputs": [],
   "source": []
  },
  {
   "cell_type": "code",
   "execution_count": null,
   "id": "3b527a04",
   "metadata": {},
   "outputs": [],
   "source": []
  },
  {
   "cell_type": "code",
   "execution_count": null,
   "id": "adb5642e",
   "metadata": {},
   "outputs": [],
   "source": []
  },
  {
   "cell_type": "code",
   "execution_count": null,
   "id": "43aef5b5",
   "metadata": {},
   "outputs": [],
   "source": []
  },
  {
   "cell_type": "code",
   "execution_count": null,
   "id": "3624535b",
   "metadata": {},
   "outputs": [],
   "source": []
  },
  {
   "cell_type": "code",
   "execution_count": null,
   "id": "ea713990",
   "metadata": {},
   "outputs": [],
   "source": []
  },
  {
   "cell_type": "code",
   "execution_count": null,
   "id": "1eef6445",
   "metadata": {},
   "outputs": [],
   "source": []
  },
  {
   "cell_type": "code",
   "execution_count": null,
   "id": "2234d9a3",
   "metadata": {},
   "outputs": [],
   "source": []
  },
  {
   "cell_type": "code",
   "execution_count": 26,
   "id": "d52f143e",
   "metadata": {},
   "outputs": [
    {
     "name": "stdout",
     "output_type": "stream",
     "text": [
      "Structured Employee Data:\n",
      "'Doctor1': 'EMP001'\n",
      "'Nurse1': 'EMP002'\n",
      "'Surgeon1': 'EMP003'\n",
      "'Therapist1': 'EMP004'\n",
      "'Pharmacist1': 'EMP005'\n",
      "'Radiologist1': 'EMP006'\n",
      "'Pathologist1': 'EMP007'\n",
      "'Nurse2': 'EMP008'\n",
      "'Doctor2': 'EMP009'\n",
      "'Surgeon2': 'EMP010'\n",
      "'Therapist2': 'EMP011'\n",
      "'Pharmacist2': 'EMP012'\n",
      "'Radiologist2': 'EMP013'\n",
      "'Pathologist2': 'EMP014'\n",
      "'Nurse3': 'EMP015'\n",
      "'Doctor3': 'EMP016'\n",
      "'Surgeon3': 'EMP017'\n",
      "'Therapist3': 'EMP018'\n",
      "'Pharmacist3': 'EMP019'\n",
      "'Radiologist3': 'EMP020'\n"
     ]
    }
   ],
   "source": [
    "# Predefined roles\n",
    "roles = [\n",
    "    'Doctor', 'Nurse', 'Surgeon', 'Therapist', 'Pharmacist',\n",
    "    'Radiologist', 'Pathologist', 'Nurse', 'Doctor', 'Surgeon',\n",
    "    'Therapist', 'Pharmacist', 'Radiologist', 'Pathologist', 'Nurse',\n",
    "    'Doctor', 'Surgeon', 'Therapist', 'Pharmacist', 'Radiologist'\n",
    "]\n",
    "\n",
    "# Dictionary to store numbered roles and their associated employee IDs\n",
    "employee_data = {}\n",
    "\n",
    "# Counters for each role\n",
    "role_counters = {role: 0 for role in set(roles)}\n",
    "\n",
    "# Assign roles to employee IDs\n",
    "for i, role in enumerate(roles, start=1):\n",
    "    role_counters[role] += 1\n",
    "    role_key = f'{role}{role_counters[role]}'\n",
    "    employee_id = f'EMP{i:03d}'\n",
    "    employee_data[role_key] = employee_id\n",
    "\n",
    "# Output the structured employee data\n",
    "print(\"Structured Employee Data:\")\n",
    "for role_key, employee_id in employee_data.items():\n",
    "    print(f\"'{role_key}': '{employee_id}'\")\n"
   ]
  },
  {
   "cell_type": "code",
   "execution_count": null,
   "id": "6a0c071c",
   "metadata": {},
   "outputs": [],
   "source": []
  },
  {
   "cell_type": "code",
   "execution_count": null,
   "id": "963465e0",
   "metadata": {},
   "outputs": [],
   "source": []
  },
  {
   "cell_type": "code",
   "execution_count": 1,
   "id": "037f41c7",
   "metadata": {},
   "outputs": [],
   "source": [
    "import os\n",
    "from cryptography.hazmat.primitives import serialization\n",
    "from cryptography.hazmat.primitives.asymmetric import rsa\n",
    "from cryptography.hazmat.backends import default_backend\n",
    "\n",
    "# Define your DataUser dictionary\n",
    "DataUser = {\n",
    "    'Doctor1': 'EMP001', 'Nurse1': 'EMP002', 'Surgeon1': 'EMP003', 'Therapist1': 'EMP004',\n",
    "    'Pharmacist1': 'EMP005', 'Radiologist1': 'EMP006', 'Pathologist1': 'EMP007',\n",
    "    'Nurse2': 'EMP008', 'Doctor2': 'EMP009', 'Surgeon2': 'EMP010', 'Therapist2': 'EMP011',\n",
    "    'Pharmacist2': 'EMP012', 'Radiologist2': 'EMP013', 'Pathologist2': 'EMP014',\n",
    "    'Nurse3': 'EMP015', 'Doctor3': 'EMP016', 'Surgeon3': 'EMP017', 'Therapist3': 'EMP018',\n",
    "    'Pharmacist3': 'EMP019', 'Radiologist3': 'EMP020'\n",
    "}\n",
    "\n",
    "\n",
    "# Directory to save keys\n",
    "keys_directory = \"C:/Users/ROHAN/IotSimulation/CPABE-Keys\"\n",
    "os.makedirs(keys_directory, exist_ok=True)\n",
    "\n",
    "def generate_keys_for_user(user_id):\n",
    "    # Generate private key\n",
    "    private_key = rsa.generate_private_key(\n",
    "        public_exponent=65537,\n",
    "        key_size=2048,\n",
    "        backend=default_backend()\n",
    "    )\n",
    "\n",
    "    # Generate public key\n",
    "    public_key = private_key.public_key()\n",
    "\n",
    "    # Save private key\n",
    "    private_key_file = os.path.join(keys_directory, f\"{user_id}_private_key.pem\")\n",
    "    with open(private_key_file, \"wb\") as f:\n",
    "        f.write(private_key.private_bytes(\n",
    "            encoding=serialization.Encoding.PEM,\n",
    "            format=serialization.PrivateFormat.PKCS8,\n",
    "            encryption_algorithm=serialization.NoEncryption()\n",
    "        ))\n",
    "\n",
    "    # Save public key\n",
    "    public_key_file = os.path.join(keys_directory, f\"{user_id}_public_key.pem\")\n",
    "    with open(public_key_file, \"wb\") as f:\n",
    "        f.write(public_key.public_bytes(\n",
    "            encoding=serialization.Encoding.PEM,\n",
    "            format=serialization.PublicFormat.SubjectPublicKeyInfo\n",
    "        ))\n",
    "\n",
    "# Generate and save keys for each user\n",
    "for user, user_id in DataUser.items():\n",
    "    generate_keys_for_user(user_id)\n"
   ]
  },
  {
   "cell_type": "code",
   "execution_count": null,
   "id": "347ad9ce",
   "metadata": {},
   "outputs": [],
   "source": []
  },
  {
   "cell_type": "code",
   "execution_count": null,
   "id": "8a060e57",
   "metadata": {},
   "outputs": [],
   "source": []
  },
  {
   "cell_type": "code",
   "execution_count": null,
   "id": "8b769d5c",
   "metadata": {},
   "outputs": [],
   "source": []
  },
  {
   "cell_type": "code",
   "execution_count": null,
   "id": "f99c0ef6",
   "metadata": {},
   "outputs": [],
   "source": []
  },
  {
   "cell_type": "code",
   "execution_count": null,
   "id": "e61e74f2",
   "metadata": {},
   "outputs": [],
   "source": []
  },
  {
   "cell_type": "code",
   "execution_count": null,
   "id": "ac46b8c9",
   "metadata": {},
   "outputs": [],
   "source": []
  },
  {
   "cell_type": "code",
   "execution_count": null,
   "id": "5f07bd55",
   "metadata": {},
   "outputs": [],
   "source": []
  },
  {
   "cell_type": "code",
   "execution_count": null,
   "id": "acea6ae9",
   "metadata": {},
   "outputs": [],
   "source": []
  },
  {
   "cell_type": "code",
   "execution_count": null,
   "id": "7cc40f5b",
   "metadata": {},
   "outputs": [],
   "source": []
  },
  {
   "cell_type": "code",
   "execution_count": null,
   "id": "1858a548",
   "metadata": {},
   "outputs": [],
   "source": []
  },
  {
   "cell_type": "code",
   "execution_count": null,
   "id": "a2ccee35",
   "metadata": {},
   "outputs": [],
   "source": []
  },
  {
   "cell_type": "code",
   "execution_count": null,
   "id": "3645abf9",
   "metadata": {},
   "outputs": [],
   "source": []
  },
  {
   "cell_type": "code",
   "execution_count": null,
   "id": "20ec604e",
   "metadata": {},
   "outputs": [],
   "source": []
  },
  {
   "cell_type": "code",
   "execution_count": null,
   "id": "d34c2526",
   "metadata": {},
   "outputs": [],
   "source": []
  }
 ],
 "metadata": {
  "kernelspec": {
   "display_name": "Python 3 (ipykernel)",
   "language": "python",
   "name": "python3"
  },
  "language_info": {
   "codemirror_mode": {
    "name": "ipython",
    "version": 3
   },
   "file_extension": ".py",
   "mimetype": "text/x-python",
   "name": "python",
   "nbconvert_exporter": "python",
   "pygments_lexer": "ipython3",
   "version": "3.11.3"
  }
 },
 "nbformat": 4,
 "nbformat_minor": 5
}
